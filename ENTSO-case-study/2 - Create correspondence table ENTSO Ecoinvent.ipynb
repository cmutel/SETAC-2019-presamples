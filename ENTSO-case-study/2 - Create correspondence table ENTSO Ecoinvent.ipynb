{
 "cells": [
  {
   "cell_type": "code",
   "execution_count": 1,
   "metadata": {},
   "outputs": [
    {
     "name": "stderr",
     "output_type": "stream",
     "text": [
      "/Users/cmutel/miniconda/envs/setac2019/lib/python3.7/site-packages/constructive_geometries/cg.py:77: FionaDeprecationWarning: Use fiona.Env() instead.\n",
      "  with fiona.drivers():\n"
     ]
    }
   ],
   "source": [
    "import brightway2 as bw\n",
    "import bentso\n",
    "from bentso.iterators import COUNTRIES\n",
    "import wurst\n",
    "from wurst.ecoinvent.electricity_markets import (\n",
    "    move_all_generation_to_high_voltage, \n",
    "    remove_electricity_trade,\n",
    "    all_providers,\n",
    ")"
   ]
  },
  {
   "cell_type": "code",
   "execution_count": 2,
   "metadata": {},
   "outputs": [],
   "source": [
    "bw.projects.set_current(\"SETAC 2019\")"
   ]
  },
  {
   "cell_type": "markdown",
   "metadata": {},
   "source": [
    "# How to handle ENTSO generation from `Other` and `Other renewable`?\n",
    "\n",
    "Check to see how important they are in the ENTSO data.\n",
    "\n",
    "You can set the key to a different value if you don't have the data cached already.\n",
    "\n",
    "**Note**: To use `bentso`, you need to [register for a ENTSO-E API key](https://transparency.entsoe.eu/content/static_content/Static%20content/web%20api/Guide.html) (see section on authentication)."
   ]
  },
  {
   "cell_type": "code",
   "execution_count": 3,
   "metadata": {},
   "outputs": [
    {
     "name": "stdout",
     "output_type": "stream",
     "text": [
      "Using data directory /Users/cmutel/Library/Application Support/bentso\n"
     ]
    }
   ],
   "source": [
    "c = bentso.CachingDataClient()"
   ]
  },
  {
   "cell_type": "markdown",
   "metadata": {},
   "source": [
    "European countries where ENTSO doesn't have data"
   ]
  },
  {
   "cell_type": "code",
   "execution_count": 4,
   "metadata": {},
   "outputs": [],
   "source": [
    "ENTSO_MISSING = {\"HR\", \"CY\", \"IS\", \"LU\", \"ME\", \"NI\"}"
   ]
  },
  {
   "cell_type": "code",
   "execution_count": 5,
   "metadata": {},
   "outputs": [],
   "source": [
    "missing = ['Other renewable', 'Other']"
   ]
  },
  {
   "cell_type": "code",
   "execution_count": 6,
   "metadata": {},
   "outputs": [
    {
     "name": "stdout",
     "output_type": "stream",
     "text": [
      "AT Other 770880.0 0.0032773083017291335\n",
      "BE Other 5080873.0 0.06245732457602635\n",
      "Value not in cache; returning nothing.\n",
      "Value not in cache; returning nothing.\n",
      "CZ Other renewable 2482996.0 0.030779251324929282\n",
      "CZ Other 975209.0 0.012088703689145275\n",
      "EE Other renewable 54694.0 0.004970315238886197\n",
      "FI Other renewable 354906.0 0.005735598610298779\n",
      "FI Other 1132735.0 0.018306011427918344\n",
      "DE Other renewable 6365306.0 0.0029486705610072377\n",
      "DE Other 165030109.0 0.0764487086855079\n",
      "HU Other renewable 401251.0 0.0033896873540959706\n",
      "HU Other 2970384.0 0.025093203709421297\n",
      "IE Other 26671.0 0.0007093943672262622\n",
      "Value not in cache; returning nothing.\n",
      "IT Other 81423613.0 0.32047333882073326\n",
      "LV Other 784921.0 0.10756488871189525\n",
      "Value not in cache; returning nothing.\n",
      "Value not in cache; returning nothing.\n",
      "NL Other 6864.0 3.3435133670610246e-05\n",
      "Value not in cache; returning nothing.\n",
      "NO Other 380779.0 0.0025892372053025635\n",
      "PT Other 318916.0 0.005834667717159087\n",
      "RS Other 305419.0 0.008984141270862745\n",
      "SK Other renewable 336613.0 0.012081646089778741\n",
      "SK Other 3214347.0 0.11536869599136702\n",
      "SE Other 8180827.0 0.05328047862343101\n"
     ]
    }
   ],
   "source": [
    "for country in COUNTRIES:\n",
    "    df = c.get_generation(country, 2017)\n",
    "    if df is None:\n",
    "        continue\n",
    "    for label in missing:\n",
    "        if label in df.columns:\n",
    "            total = df[label].sum()\n",
    "            if total > 0:\n",
    "                print(country, label, total, total / df.sum().sum())"
   ]
  },
  {
   "cell_type": "markdown",
   "metadata": {},
   "source": [
    "Traditionally, `Other renewable` is wind, solar, hydro, biofuels, tidal, and geothermal - but we have all of these covered. Therefore, we will set `Other renewable` to the country-specific mix of these renewables, as we don't have any better data.\n",
    "\n",
    "`Other` is a tougher problem. Italy has an astonishingly high fraction, 0.32. We can compare the ENTSO numbers with more [details accounts from Terna, the Italian ISO](http://download.terna.it/terna/0000/1112/76.PDF) for 2016:\n",
    "\n",
    "| ENTSO Label | ENTSO value (GWh) | Terna value (GWh) | Note |\n",
    "| --- | --- | --- | --- |\n",
    "| Biomass                         |  2.4 | 4.0 |\n",
    "| Fossil Coal-derived gas         |  1.9 | 2.7 |\n",
    "| Fossil Gas                      | 61.0 | 123 |\n",
    "| Fossil Hard coal                | 10.0 | 32.4 |\n",
    "| Fossil Oil                      |  1.2 | 3.8 |\n",
    "| Geothermal                      |  5.8 | 5.8 |\n",
    "| Hydro Pumped Storage            |  3.1 | 42.4 | All hydro |\n",
    "| Hydro Run-of-river and poundage | 31.0 |  |\n",
    "| Hydro Water Reservoir           |  6.3 |  |\n",
    "| Other                           | 92.2 |  |\n",
    "| Solar                           | 18.0 | 22.1 |\n",
    "| Waste                           |   .3 | 15.5 |\n",
    "| Wind Onshore                    | 17.1 | 17.7 |\n",
    "\n",
    "It looks like the best we can do (without doing very detailed analysis for each country with `other`) is to assign the average mix of specific technologies to `Other`."
   ]
  },
  {
   "cell_type": "code",
   "execution_count": 7,
   "metadata": {},
   "outputs": [],
   "source": [
    "RENEWABLES = {\n",
    "    'Solar',\n",
    "    'Wind Onshore',\n",
    "    'Wind Offshore',\n",
    "    'Hydro Water Reservoir',\n",
    "    'Hydro Run-of-river and poundage',\n",
    "    'Marine',\n",
    "    'Geothermal',\n",
    "    'Biomass',\n",
    "}"
   ]
  },
  {
   "cell_type": "code",
   "execution_count": 8,
   "metadata": {},
   "outputs": [],
   "source": [
    "def drop_zero_columns(df):\n",
    "    \"\"\"Drop columns with zero generation\"\"\"\n",
    "    for col in df:\n",
    "        if not df[col].sum():\n",
    "            df = df.drop(col, axis=1)\n",
    "    return df"
   ]
  },
  {
   "cell_type": "code",
   "execution_count": 9,
   "metadata": {},
   "outputs": [],
   "source": [
    "def remove_other_renewables(df):\n",
    "    \"\"\"Remove `Other renewables` column and rescale\"\"\"\n",
    "    if 'Other renewable' in df:\n",
    "        renewable_total = sum([df[label].sum() \n",
    "                               for label in RENEWABLES\n",
    "                               if label in df])\n",
    "        oth_renew_total = df['Other renewable'].sum()\n",
    "        if not RENEWABLES.intersection(set(df.columns)):\n",
    "            raise ValueError(\"No substitutable renewable sources found\")\n",
    "        \n",
    "        for label in RENEWABLES:\n",
    "            if label not in df:\n",
    "                continue\n",
    "            this = df[label].sum()\n",
    "            multiplier = ((this / renewable_total) * (oth_renew_total / this)) + 1\n",
    "            df[label] *= multiplier\n",
    "        return df.drop('Other renewable', axis=1)\n",
    "    else:\n",
    "        return df"
   ]
  },
  {
   "cell_type": "code",
   "execution_count": 10,
   "metadata": {},
   "outputs": [],
   "source": [
    "def remove_others(df):\n",
    "    \"\"\"Remove `Other` column and rescale\"\"\"\n",
    "    if 'Other' in df:\n",
    "        total = df.sum().sum()\n",
    "        scale = total / (total - df['Other'].sum())\n",
    "        return df.drop('Other', axis=1) * scale\n",
    "    else:\n",
    "        return df"
   ]
  },
  {
   "cell_type": "markdown",
   "metadata": {},
   "source": [
    "Simple test to make sure we aren't losing generation"
   ]
  },
  {
   "cell_type": "code",
   "execution_count": 11,
   "metadata": {},
   "outputs": [],
   "source": [
    "df = c.get_generation(\"DE\", 2017)"
   ]
  },
  {
   "cell_type": "code",
   "execution_count": 12,
   "metadata": {},
   "outputs": [
    {
     "data": {
      "text/plain": [
       "(Biomass                            160838272.0\n",
       " Fossil Brown coal/Lignite          517801091.0\n",
       " Fossil Coal-derived gas             15071396.0\n",
       " Fossil Gas                          67615776.0\n",
       " Fossil Hard coal                   262629839.0\n",
       " Fossil Oil shale                           0.0\n",
       " Fossil Peat                                0.0\n",
       " Geothermal                            139192.0\n",
       " Hydro Pumped Storage                36986326.0\n",
       " Hydro Run-of-river and poundage     59930085.0\n",
       " Hydro Water Reservoir                2426830.0\n",
       " Marine                                     0.0\n",
       " Nuclear                            288840518.0\n",
       " Other                              165030109.0\n",
       " Other renewable                      6365306.0\n",
       " Solar                              143529219.0\n",
       " Waste                               20879488.0\n",
       " Wind Offshore                       69675245.0\n",
       " Wind Onshore                       340944991.0\n",
       " dtype: float64, 2158703683.0)"
      ]
     },
     "execution_count": 12,
     "metadata": {},
     "output_type": "execute_result"
    }
   ],
   "source": [
    "df.sum(), df.sum().sum()"
   ]
  },
  {
   "cell_type": "code",
   "execution_count": 13,
   "metadata": {},
   "outputs": [],
   "source": [
    "df = remove_other_renewables(remove_others(drop_zero_columns(df)))"
   ]
  },
  {
   "cell_type": "code",
   "execution_count": 14,
   "metadata": {},
   "outputs": [
    {
     "data": {
      "text/plain": [
       "(Biomass                            1.755778e+08\n",
       " Fossil Brown coal/Lignite          5.606631e+08\n",
       " Fossil Coal-derived gas            1.631896e+07\n",
       " Fossil Gas                         7.321280e+07\n",
       " Fossil Hard coal                   2.843695e+08\n",
       " Geothermal                         1.519478e+05\n",
       " Hydro Pumped Storage               4.004794e+07\n",
       " Hydro Run-of-river and poundage    6.542218e+07\n",
       " Hydro Water Reservoir              2.649229e+06\n",
       " Nuclear                            3.127498e+08\n",
       " Solar                              1.566825e+08\n",
       " Waste                              2.260783e+07\n",
       " Wind Offshore                      7.606040e+07\n",
       " Wind Onshore                       3.721898e+08\n",
       " dtype: float64, 2158703683.0000024)"
      ]
     },
     "execution_count": 14,
     "metadata": {},
     "output_type": "execute_result"
    }
   ],
   "source": [
    "df.sum(), df.sum().sum()"
   ]
  },
  {
   "cell_type": "markdown",
   "metadata": {},
   "source": [
    "The cleaning and missing country functionality was integrated into bentso version 0.2.\n",
    "\n",
    "# Mapping ENTSO-E labels to ecoinvent\n",
    "\n",
    "List all ecoinvent activities that have the unit `kilowatt hour`:"
   ]
  },
  {
   "cell_type": "code",
   "execution_count": 15,
   "metadata": {
    "scrolled": true
   },
   "outputs": [
    {
     "data": {
      "text/plain": [
       "['biogas, burned in micro gas turbine 100kWe',\n",
       " 'biogas, burned in polymer electrolyte membrane fuel cell 2kWe, future',\n",
       " 'biogas, burned in solid oxide fuel cell 125kWe, future',\n",
       " 'biogas, burned in solid oxide fuel cell, with micro gas turbine, 180kWe, future',\n",
       " 'burnt shale production',\n",
       " 'cane sugar production with ethanol by-product',\n",
       " 'electricity production, coal, aluminium industry',\n",
       " 'electricity production, deep geothermal',\n",
       " 'electricity production, hard coal',\n",
       " 'electricity production, hard coal, at coal mine power plant',\n",
       " 'electricity production, hard coal, conventional',\n",
       " 'electricity production, hard coal, supercritical',\n",
       " 'electricity production, high voltage, for Swiss Federal Railways',\n",
       " 'electricity production, hydro, aluminium industry',\n",
       " 'electricity production, hydro, pumped storage',\n",
       " 'electricity production, hydro, reservoir, alpine region',\n",
       " 'electricity production, hydro, reservoir, alpine region, label-certified',\n",
       " 'electricity production, hydro, reservoir, non-alpine region',\n",
       " 'electricity production, hydro, reservoir, tropical region',\n",
       " 'electricity production, hydro, run-of-river',\n",
       " 'electricity production, hydro, run-of-river, label-certified',\n",
       " 'electricity production, lignite',\n",
       " 'electricity production, natural gas, 10MW',\n",
       " 'electricity production, natural gas, aluminium industry',\n",
       " 'electricity production, natural gas, combined cycle power plant',\n",
       " 'electricity production, natural gas, conventional power plant',\n",
       " 'electricity production, nuclear, aluminium industry',\n",
       " 'electricity production, nuclear, boiling water reactor',\n",
       " 'electricity production, nuclear, pressure water reactor',\n",
       " 'electricity production, nuclear, pressure water reactor, heavy water moderated',\n",
       " 'electricity production, oil',\n",
       " 'electricity production, oil, aluminium industry',\n",
       " 'electricity production, peat',\n",
       " 'electricity production, photovoltaic, 3kWp facade installation, multi-Si, laminated, integrated',\n",
       " 'electricity production, photovoltaic, 3kWp facade installation, multi-Si, panel, mounted',\n",
       " 'electricity production, photovoltaic, 3kWp facade installation, single-Si, laminated, integrated',\n",
       " 'electricity production, photovoltaic, 3kWp facade installation, single-Si, panel, mounted',\n",
       " 'electricity production, photovoltaic, 3kWp flat-roof installation, multi-Si',\n",
       " 'electricity production, photovoltaic, 3kWp flat-roof installation, single-Si',\n",
       " 'electricity production, photovoltaic, 3kWp slanted-roof installation, CIS, panel, mounted',\n",
       " 'electricity production, photovoltaic, 3kWp slanted-roof installation, CdTe, laminated, integrated',\n",
       " 'electricity production, photovoltaic, 3kWp slanted-roof installation, a-Si, laminated, integrated',\n",
       " 'electricity production, photovoltaic, 3kWp slanted-roof installation, a-Si, panel, mounted',\n",
       " 'electricity production, photovoltaic, 3kWp slanted-roof installation, multi-Si, laminated, integrated',\n",
       " 'electricity production, photovoltaic, 3kWp slanted-roof installation, multi-Si, panel, mounted',\n",
       " 'electricity production, photovoltaic, 3kWp slanted-roof installation, multi-Si, panel, mounted, label-certified',\n",
       " 'electricity production, photovoltaic, 3kWp slanted-roof installation, ribbon-Si, laminated, integrated',\n",
       " 'electricity production, photovoltaic, 3kWp slanted-roof installation, ribbon-Si, panel, mounted',\n",
       " 'electricity production, photovoltaic, 3kWp slanted-roof installation, single-Si, laminated, integrated',\n",
       " 'electricity production, photovoltaic, 3kWp slanted-roof installation, single-Si, panel, mounted',\n",
       " 'electricity production, photovoltaic, 3kWp slanted-roof installation, single-Si, panel, mounted, label-certified',\n",
       " 'electricity production, photovoltaic, 570kWp open ground installation, multi-Si',\n",
       " 'electricity production, solar thermal parabolic trough, 50 MW',\n",
       " 'electricity production, solar tower power plant, 20 MW',\n",
       " 'electricity production, wind, 1-3MW turbine, offshore',\n",
       " 'electricity production, wind, 1-3MW turbine, onshore',\n",
       " 'electricity production, wind, 1-3MW turbine, onshore, label-certified',\n",
       " 'electricity production, wind, 2.3MW turbine, precast concrete tower, onshore',\n",
       " 'electricity production, wind, <1MW turbine, onshore',\n",
       " 'electricity production, wind, <1MW turbine, onshore, label-certified',\n",
       " 'electricity production, wind, >3MW turbine, onshore',\n",
       " 'electricity production, wood, future',\n",
       " 'electricity voltage transformation from high to medium voltage',\n",
       " 'electricity voltage transformation from high to medium voltage, aluminium industry',\n",
       " 'electricity voltage transformation from high to medium voltage, label-certified',\n",
       " 'electricity voltage transformation from medium to low voltage',\n",
       " 'electricity voltage transformation from medium to low voltage, label-certified',\n",
       " 'electricity, from municipal waste incineration to generic market for electricity, medium voltage',\n",
       " 'electricity, high voltage, aluminium industry, production mix',\n",
       " 'electricity, high voltage, for Swiss Federal Railways, production mix',\n",
       " 'electricity, high voltage, hydro, import from CA-ON',\n",
       " 'electricity, high voltage, hydro, reservoir, import from France',\n",
       " 'electricity, high voltage, hydro, run-of-river, import from France',\n",
       " 'electricity, high voltage, import from AL',\n",
       " 'electricity, high voltage, import from AO',\n",
       " 'electricity, high voltage, import from AR',\n",
       " 'electricity, high voltage, import from AT',\n",
       " 'electricity, high voltage, import from AZ',\n",
       " 'electricity, high voltage, import from BA',\n",
       " 'electricity, high voltage, import from BE',\n",
       " 'electricity, high voltage, import from BG',\n",
       " 'electricity, high voltage, import from BR',\n",
       " 'electricity, high voltage, import from BT',\n",
       " 'electricity, high voltage, import from BY',\n",
       " 'electricity, high voltage, import from CA-AB',\n",
       " 'electricity, high voltage, import from CA-BC',\n",
       " 'electricity, high voltage, import from CA-MB',\n",
       " 'electricity, high voltage, import from CA-NB',\n",
       " 'electricity, high voltage, import from CA-NF',\n",
       " 'electricity, high voltage, import from CA-NS',\n",
       " 'electricity, high voltage, import from CA-ON',\n",
       " 'electricity, high voltage, import from CA-PE',\n",
       " 'electricity, high voltage, import from CA-QC',\n",
       " 'electricity, high voltage, import from CA-SK',\n",
       " 'electricity, high voltage, import from CD',\n",
       " 'electricity, high voltage, import from CH',\n",
       " 'electricity, high voltage, import from CO',\n",
       " 'electricity, high voltage, import from CR',\n",
       " 'electricity, high voltage, import from CSG',\n",
       " 'electricity, high voltage, import from CZ',\n",
       " 'electricity, high voltage, import from DE',\n",
       " 'electricity, high voltage, import from DK',\n",
       " 'electricity, high voltage, import from DZ',\n",
       " 'electricity, high voltage, import from EE',\n",
       " 'electricity, high voltage, import from ES',\n",
       " 'electricity, high voltage, import from FI',\n",
       " 'electricity, high voltage, import from FR',\n",
       " 'electricity, high voltage, import from GB',\n",
       " 'electricity, high voltage, import from GE',\n",
       " 'electricity, high voltage, import from GH',\n",
       " 'electricity, high voltage, import from GR',\n",
       " 'electricity, high voltage, import from GT',\n",
       " 'electricity, high voltage, import from HN',\n",
       " 'electricity, high voltage, import from HR',\n",
       " 'electricity, high voltage, import from HU',\n",
       " 'electricity, high voltage, import from ID',\n",
       " 'electricity, high voltage, import from IE',\n",
       " 'electricity, high voltage, import from IN-Eastern grid',\n",
       " 'electricity, high voltage, import from IN-North-eastern grid',\n",
       " 'electricity, high voltage, import from IN-Northern grid',\n",
       " 'electricity, high voltage, import from IN-Southern grid',\n",
       " 'electricity, high voltage, import from IN-Western grid',\n",
       " 'electricity, high voltage, import from IQ',\n",
       " 'electricity, high voltage, import from IR',\n",
       " 'electricity, high voltage, import from IT',\n",
       " 'electricity, high voltage, import from KZ',\n",
       " 'electricity, high voltage, import from LA',\n",
       " 'electricity, high voltage, import from LT',\n",
       " 'electricity, high voltage, import from LU',\n",
       " 'electricity, high voltage, import from LV',\n",
       " 'electricity, high voltage, import from MA',\n",
       " 'electricity, high voltage, import from ME',\n",
       " 'electricity, high voltage, import from MK',\n",
       " 'electricity, high voltage, import from MRO, US only',\n",
       " 'electricity, high voltage, import from MY',\n",
       " 'electricity, high voltage, import from MZ',\n",
       " 'electricity, high voltage, import from NG',\n",
       " 'electricity, high voltage, import from NI',\n",
       " 'electricity, high voltage, import from NL',\n",
       " 'electricity, high voltage, import from NO',\n",
       " 'electricity, high voltage, import from NPCC, US only',\n",
       " 'electricity, high voltage, import from PA',\n",
       " 'electricity, high voltage, import from PL',\n",
       " 'electricity, high voltage, import from PT',\n",
       " 'electricity, high voltage, import from PY',\n",
       " 'electricity, high voltage, import from RO',\n",
       " 'electricity, high voltage, import from RS',\n",
       " 'electricity, high voltage, import from RU',\n",
       " 'electricity, high voltage, import from SA',\n",
       " 'electricity, high voltage, import from SE',\n",
       " 'electricity, high voltage, import from SGCC',\n",
       " 'electricity, high voltage, import from SI',\n",
       " 'electricity, high voltage, import from SK',\n",
       " 'electricity, high voltage, import from SY',\n",
       " 'electricity, high voltage, import from TG',\n",
       " 'electricity, high voltage, import from TH',\n",
       " 'electricity, high voltage, import from TM',\n",
       " 'electricity, high voltage, import from TN',\n",
       " 'electricity, high voltage, import from TR',\n",
       " 'electricity, high voltage, import from TRE',\n",
       " 'electricity, high voltage, import from TZ',\n",
       " 'electricity, high voltage, import from UA',\n",
       " 'electricity, high voltage, import from UY',\n",
       " 'electricity, high voltage, import from UZ',\n",
       " 'electricity, high voltage, import from VE',\n",
       " 'electricity, high voltage, import from VN',\n",
       " 'electricity, high voltage, import from WECC, US only',\n",
       " 'electricity, high voltage, import from ZA',\n",
       " 'electricity, high voltage, import from ZW',\n",
       " 'electricity, high voltage, label-certified, production mix',\n",
       " 'electricity, high voltage, natural gas, import from Germany',\n",
       " 'electricity, high voltage, nuclear, import from France',\n",
       " 'electricity, high voltage, production mix',\n",
       " 'electricity, high voltage, wind power, import from Germany',\n",
       " 'ethanol production from sugarcane',\n",
       " 'ethanol production from sweet sorghum',\n",
       " 'ethanol production from wood',\n",
       " 'heat and power co-generation, biogas, gas engine',\n",
       " 'heat and power co-generation, biogas, gas engine, label-certified',\n",
       " 'heat and power co-generation, diesel, 200kW electrical, SCR-NOx reduction',\n",
       " 'heat and power co-generation, hard coal',\n",
       " 'heat and power co-generation, lignite',\n",
       " 'heat and power co-generation, natural gas, 160kW electrical, Jakobsberg',\n",
       " 'heat and power co-generation, natural gas, 160kW electrical, lambda=1',\n",
       " 'heat and power co-generation, natural gas, 1MW electrical, lean burn',\n",
       " 'heat and power co-generation, natural gas, 200kW electrical, lean burn',\n",
       " 'heat and power co-generation, natural gas, 500kW electrical, lean burn',\n",
       " 'heat and power co-generation, natural gas, 50kW electrical, lean burn',\n",
       " 'heat and power co-generation, natural gas, combined cycle power plant, 400MW electrical',\n",
       " 'heat and power co-generation, natural gas, conventional power plant, 100MW electrical',\n",
       " 'heat and power co-generation, natural gas, mini-plant 2KW electrical',\n",
       " 'heat and power co-generation, oil',\n",
       " 'heat and power co-generation, wood chips, 2000 kW',\n",
       " 'heat and power co-generation, wood chips, 2000 kW, state-of-the-art 2014',\n",
       " 'heat and power co-generation, wood chips, 6667 kW',\n",
       " 'heat and power co-generation, wood chips, 6667 kW, state-of-the-art 2014',\n",
       " 'heat and power co-generation, wood chips, 6667 kW, state-of-the-art 2014, label-certified',\n",
       " 'market for electricity, for reuse in municipal waste incineration only',\n",
       " 'market for electricity, high voltage',\n",
       " 'market for electricity, high voltage, aluminium industry',\n",
       " 'market for electricity, high voltage, for Swiss Federal Railways',\n",
       " 'market for electricity, high voltage, for internal use in coal mining',\n",
       " 'market for electricity, high voltage, label-certified',\n",
       " 'market for electricity, low voltage',\n",
       " 'market for electricity, low voltage, label-certified',\n",
       " 'market for electricity, medium voltage',\n",
       " 'market for electricity, medium voltage, aluminium industry',\n",
       " 'market for electricity, medium voltage, label-certified',\n",
       " 'market group for electricity, high voltage',\n",
       " 'market group for electricity, low voltage',\n",
       " 'market group for electricity, medium voltage',\n",
       " 'natural gas, burned in gas turbine, for compressor station',\n",
       " 'natural gas, burned in micro gas turbine, 100kWe',\n",
       " 'natural gas, burned in polymer electrolyte membrane fuel cell 2kWe, future',\n",
       " 'natural gas, burned in solid oxide fuel cell 125kWe, future',\n",
       " 'natural gas, burned in solid oxide fuel cell, with micro gas turbine, 180kWe, future',\n",
       " 'petroleum refinery operation',\n",
       " 'sawing and planing, paraná pine, kiln dried',\n",
       " 'sulfate pulp production, from eucalyptus, bleached',\n",
       " 'sulfate pulp production, from hardwood, bleached',\n",
       " 'sulfate pulp production, from softwood, bleached',\n",
       " 'sulfate pulp production, from softwood, unbleached',\n",
       " 'treatment of bagasse, from sugarcane, in heat and power co-generation unit, 6400kW thermal',\n",
       " 'treatment of bagasse, from sweet sorghum, in heat and power co-generation unit, 6400kW thermal',\n",
       " 'treatment of biowaste, municipal incineration',\n",
       " 'treatment of biowaste, municipal incineration with fly ash extraction',\n",
       " 'treatment of blast furnace gas, in power plant',\n",
       " 'treatment of coal gas, in power plant',\n",
       " 'treatment of digester sludge, municipal incineration',\n",
       " 'treatment of digester sludge, municipal incineration with fly ash extraction',\n",
       " 'treatment of digester sludge, municipal incineration, future',\n",
       " 'treatment of liquid crystal display, municipal incineration with fly ash extraction',\n",
       " 'treatment of liquid crystal display, municipal waste incineration',\n",
       " 'treatment of municipal solid waste, incineration',\n",
       " 'treatment of municipal solid waste, municipal incineration with fly ash extraction',\n",
       " 'treatment of raw sewage sludge, municipal incineration',\n",
       " 'treatment of raw sewage sludge, municipal incineration with fly ash extraction',\n",
       " 'treatment of residue from mechanical treatment, IT accessory, municipal incineration with fly ash extraction',\n",
       " 'treatment of residue from mechanical treatment, IT accessory, municipal waste incineration',\n",
       " 'treatment of residue from mechanical treatment, cathode ray tube display, municipal incineration with fly ash extraction',\n",
       " 'treatment of residue from mechanical treatment, cathode ray tube display, municipal waste incineration',\n",
       " 'treatment of residue from mechanical treatment, desktop computer, municipal incineration with fly ash extraction',\n",
       " 'treatment of residue from mechanical treatment, desktop computer, municipal waste incineration',\n",
       " 'treatment of residue from mechanical treatment, industrial device, municipal incineration with fly ash extraction',\n",
       " 'treatment of residue from mechanical treatment, industrial device, municipal waste incineration',\n",
       " 'treatment of residue from mechanical treatment, laptop computer, municipal incineration with fly ash extraction',\n",
       " 'treatment of residue from mechanical treatment, laptop computer, municipal waste incineration',\n",
       " 'treatment of residue from mechanical treatment, laser printer, municipal incineration with fly ash extraction',\n",
       " 'treatment of residue from mechanical treatment, laser printer, municipal waste incineration',\n",
       " 'treatment of residue from mechanical treatment, liquid crystal display, municipal incineration with fly ash extraction',\n",
       " 'treatment of residue from mechanical treatment, liquid crystal display, municipal waste incineration',\n",
       " 'treatment of residue from shredder fraction from manual dismantling, municipal incineration with fly ash extraction',\n",
       " 'treatment of residue from shredder fraction from manual dismantling, municipal waste incineration',\n",
       " 'treatment of spent anion exchange resin from potable water production, municipal incineration',\n",
       " 'treatment of spent anion exchange resin from potable water production, municipal incineration with fly ash extraction',\n",
       " 'treatment of waste bitumen sheet, municipal incineration',\n",
       " 'treatment of waste bitumen sheet, municipal incineration with fly ash extraction',\n",
       " 'treatment of waste building wood, chrome preserved, municipal incineration',\n",
       " 'treatment of waste building wood, chrome preserved, municipal incineration with fly ash extraction',\n",
       " 'treatment of waste cement-fibre slab, dismantled, municipal incineration with fly ash extraction',\n",
       " 'treatment of waste cement-fibre slab, municipal incineration',\n",
       " 'treatment of waste emulsion paint, municipal incineration',\n",
       " 'treatment of waste emulsion paint, municipal incineration with fly ash extraction',\n",
       " 'treatment of waste expanded polystyrene, municipal incineration',\n",
       " 'treatment of waste expanded polystyrene, municipal incineration with fly ash extraction',\n",
       " 'treatment of waste graphical paper, municipal incineration',\n",
       " 'treatment of waste graphical paper, municipal incineration with fly ash extraction',\n",
       " 'treatment of waste newspaper, municipal incineration',\n",
       " 'treatment of waste newspaper, municipal incineration with fly ash extraction',\n",
       " 'treatment of waste packaging paper, municipal incineration',\n",
       " 'treatment of waste packaging paper, municipal incineration with fly ash extraction',\n",
       " 'treatment of waste packaging paper, sanitary landfill',\n",
       " 'treatment of waste paint, municipal incineration',\n",
       " 'treatment of waste paint, municipal incineration with fly ash extraction',\n",
       " 'treatment of waste paperboard, municipal incineration',\n",
       " 'treatment of waste paperboard, municipal incineration with fly ash extraction',\n",
       " 'treatment of waste plastic, consumer electronics, municipal incineration',\n",
       " 'treatment of waste plastic, consumer electronics, municipal incineration with fly ash extraction',\n",
       " 'treatment of waste plastic, consumer electronics, sanitary landfill, wet infiltration class (500mm)',\n",
       " 'treatment of waste plastic, industrial electronics, municipal incineration',\n",
       " 'treatment of waste plastic, industrial electronics, municipal incineration with fly ash extraction',\n",
       " 'treatment of waste plastic, mixture, municipal incineration',\n",
       " 'treatment of waste plastic, mixture, municipal incineration with fly ash extraction',\n",
       " 'treatment of waste polyethylene terephthalate, municipal incineration',\n",
       " 'treatment of waste polyethylene terephthalate, municipal incineration with fly ash extraction',\n",
       " 'treatment of waste polyethylene, municipal incineration',\n",
       " 'treatment of waste polyethylene, municipal incineration with fly ash extraction',\n",
       " 'treatment of waste polypropylene, municipal incineration',\n",
       " 'treatment of waste polypropylene, municipal incineration with fly ash extraction',\n",
       " 'treatment of waste polystyrene, municipal incineration',\n",
       " 'treatment of waste polystyrene, municipal incineration with fly ash extraction',\n",
       " 'treatment of waste polyurethane, municipal incineration',\n",
       " 'treatment of waste polyurethane, municipal incineration with fly ash extraction',\n",
       " 'treatment of waste polyvinylchloride, municipal incineration',\n",
       " 'treatment of waste polyvinylchloride, municipal incineration with fly ash extraction',\n",
       " 'treatment of waste polyvinylfluoride, municipal incineration',\n",
       " 'treatment of waste polyvinylfluoride, municipal incineration with fly ash extraction',\n",
       " 'treatment of waste rubber, unspecified, municipal incineration',\n",
       " 'treatment of waste rubber, unspecified, municipal incineration with fly ash extraction',\n",
       " 'treatment of waste sealing sheet, polyethylene, municipal incineration',\n",
       " 'treatment of waste sealing sheet, polyethylene, municipal incineration with fly ash extraction',\n",
       " 'treatment of waste sealing sheet, polyvinylchloride, municipal incineration',\n",
       " 'treatment of waste sealing sheet, polyvinylchloride, municipal incineration with fly ash extraction',\n",
       " 'treatment of waste textile, soiled, municipal incineration',\n",
       " 'treatment of waste textile, soiled, municipal incineration with fly ash extraction',\n",
       " 'treatment of waste vapour barrier, flame-retarded, municipal incineration',\n",
       " 'treatment of waste vapour barrier, flame-retarded, municipal incineration with fly ash extraction',\n",
       " 'treatment of waste wire plastic, municipal incineration',\n",
       " 'treatment of waste wire plastic, municipal incineration with fly ash extraction',\n",
       " 'treatment of waste wood pole, chrome preserved, municipal incineration',\n",
       " 'treatment of waste wood pole, chrome preserved, municipal incineration with fly ash extraction',\n",
       " 'treatment of waste wood, untreated, municipal incineration',\n",
       " 'treatment of waste wood, untreated, municipal incineration with fly ash extraction',\n",
       " 'wood pellets, burned in stirling heat and power co-generation unit, 3kW electrical, future']"
      ]
     },
     "execution_count": 15,
     "metadata": {},
     "output_type": "execute_result"
    }
   ],
   "source": [
    "sorted({x['name'] for x in bw.Database(\"ecoinvent 3.5 cutoff\") if x['unit'] == 'kilowatt hour'})"
   ]
  },
  {
   "cell_type": "markdown",
   "metadata": {},
   "source": [
    "Manual match of ecoinvent technologies"
   ]
  },
  {
   "cell_type": "code",
   "execution_count": 16,
   "metadata": {},
   "outputs": [],
   "source": [
    "generic_mapping = {\n",
    "    'Solar': [\n",
    "        'electricity production, photovoltaic, 3kWp facade installation, multi-Si, laminated, integrated',\n",
    "        'electricity production, photovoltaic, 3kWp facade installation, multi-Si, panel, mounted',\n",
    "        'electricity production, photovoltaic, 3kWp facade installation, single-Si, laminated, integrated',\n",
    "        'electricity production, photovoltaic, 3kWp facade installation, single-Si, panel, mounted',\n",
    "        'electricity production, photovoltaic, 3kWp flat-roof installation, multi-Si',\n",
    "        'electricity production, photovoltaic, 3kWp flat-roof installation, single-Si',\n",
    "        'electricity production, photovoltaic, 3kWp slanted-roof installation, CIS, panel, mounted',\n",
    "        'electricity production, photovoltaic, 3kWp slanted-roof installation, CdTe, laminated, integrated',\n",
    "        'electricity production, photovoltaic, 3kWp slanted-roof installation, a-Si, laminated, integrated',\n",
    "        'electricity production, photovoltaic, 3kWp slanted-roof installation, a-Si, panel, mounted',\n",
    "        'electricity production, photovoltaic, 3kWp slanted-roof installation, multi-Si, laminated, integrated',\n",
    "        'electricity production, photovoltaic, 3kWp slanted-roof installation, multi-Si, panel, mounted',\n",
    "        'electricity production, photovoltaic, 3kWp slanted-roof installation, multi-Si, panel, mounted, label-certified',\n",
    "        'electricity production, photovoltaic, 3kWp slanted-roof installation, ribbon-Si, laminated, integrated',\n",
    "        'electricity production, photovoltaic, 3kWp slanted-roof installation, ribbon-Si, panel, mounted',\n",
    "        'electricity production, photovoltaic, 3kWp slanted-roof installation, single-Si, laminated, integrated',\n",
    "        'electricity production, photovoltaic, 3kWp slanted-roof installation, single-Si, panel, mounted',\n",
    "        'electricity production, photovoltaic, 3kWp slanted-roof installation, single-Si, panel, mounted, label-certified',\n",
    "        'electricity production, photovoltaic, 570kWp open ground installation, multi-Si',\n",
    "        'electricity production, solar thermal parabolic trough, 50 MW',\n",
    "        'electricity production, solar tower power plant, 20 MW',        \n",
    "    ],\n",
    "    'Wind Onshore': [\n",
    "        'electricity production, wind, 1-3MW turbine, onshore',\n",
    "        'electricity production, wind, 1-3MW turbine, onshore, label-certified',\n",
    "        'electricity production, wind, 2.3MW turbine, precast concrete tower, onshore',\n",
    "        'electricity production, wind, <1MW turbine, onshore',\n",
    "        'electricity production, wind, <1MW turbine, onshore, label-certified',\n",
    "        'electricity production, wind, >3MW turbine, onshore',\n",
    "     ],\n",
    "    'Wind Offshore': [\n",
    "        'electricity production, wind, 1-3MW turbine, offshore'\n",
    "    ],\n",
    "    'Hydro Water Reservoir': [\n",
    "        'electricity production, hydro, reservoir, alpine region',\n",
    "        'electricity production, hydro, reservoir, alpine region, label-certified',\n",
    "        'electricity production, hydro, reservoir, non-alpine region',\n",
    "        'electricity production, hydro, reservoir, tropical region',\n",
    "        'electricity production, hydro, reservoir, alpine region, label-certified',\n",
    "    ],\n",
    "    'Hydro Run-of-river and poundage': [\n",
    "        'electricity production, hydro, run-of-river',\n",
    "        'electricity production, hydro, run-of-river, label-certified',\n",
    "    ],\n",
    "    'Waste': [\n",
    "        'electricity, from municipal waste incineration to generic market for electricity, medium voltage'\n",
    "    ],\n",
    "    'Marine': [\n",
    "        'Production of electricity by tide, wave, ocean'\n",
    "    ],\n",
    "    'Geothermal': [\n",
    "        'electricity production, deep geothermal'\n",
    "    ],\n",
    "    'Nuclear': [\n",
    "        'electricity production, nuclear, boiling water reactor',\n",
    "        'electricity production, nuclear, pressure water reactor, heavy water moderated',\n",
    "        'electricity production, nuclear, pressure water reactor',\n",
    "    ],\n",
    "    'Fossil Brown coal/Lignite': [\n",
    "        'electricity production, lignite',\n",
    "        'heat and power co-generation, lignite',\n",
    "    ],\n",
    "    'Fossil Hard coal': [\n",
    "        'electricity production, hard coal',\n",
    "        'electricity production, lignite',\n",
    "        'electricity production, hard coal, conventional',\n",
    "        'electricity production, hard coal, supercritical',\n",
    "        'heat and power co-generation, hard coal',\n",
    "    ],\n",
    "    'Fossil Gas': [\n",
    "        'electricity production, natural gas, 10MW',\n",
    "        'electricity production, natural gas, combined cycle power plant',\n",
    "        'electricity production, natural gas, conventional power plant',\n",
    "        'natural gas, burned in micro gas turbine, 100kWe',\n",
    "        'heat and power co-generation, natural gas, 160kW electrical, Jakobsberg',\n",
    "        'heat and power co-generation, natural gas, 160kW electrical, lambda=1',\n",
    "        'heat and power co-generation, natural gas, 1MW electrical, lean burn',\n",
    "        'heat and power co-generation, natural gas, 200kW electrical, lean burn',\n",
    "        'heat and power co-generation, natural gas, 500kW electrical, lean burn',\n",
    "        'heat and power co-generation, natural gas, 50kW electrical, lean burn',\n",
    "        'heat and power co-generation, natural gas, combined cycle power plant, 400MW electrical',\n",
    "        'heat and power co-generation, natural gas, conventional power plant, 100MW electrical',\n",
    "        'heat and power co-generation, natural gas, mini-plant 2KW electrical',\n",
    "    ],\n",
    "    'Hydro Pumped Storage': [\n",
    "        'electricity production, hydro, pumped storage'\n",
    "    ],\n",
    "    'Fossil Oil': [\n",
    "        'electricity production, oil',\n",
    "        'heat and power co-generation, oil',\n",
    "    ],\n",
    "    'Fossil Peat': [\n",
    "        'electricity production, peat'\n",
    "    ],\n",
    "    'Fossil Oil shale': [\n",
    "        'electricity production, oil', # Ecoinvent assumption, no activity for burning shale\n",
    "        # 'burnt shale production'     # This is only production, not combustion\n",
    "    ],\n",
    "    'Biomass': [\n",
    "        'heat and power co-generation, biogas, gas engine',\n",
    "        'heat and power co-generation, biogas, gas engine, label-certified',\n",
    "        'heat and power co-generation, wood chips, 2000 kW',\n",
    "        'heat and power co-generation, wood chips, 2000 kW, state-of-the-art 2014',\n",
    "        'heat and power co-generation, wood chips, 6667 kW',\n",
    "        'heat and power co-generation, wood chips, 6667 kW, state-of-the-art 2014',\n",
    "        'heat and power co-generation, wood chips, 6667 kW, state-of-the-art 2014, label-certified',\n",
    "        'wood pellets, burned in stirling heat and power co-generation unit, 3kW electrical, future',\n",
    "        'electricity production, wood, future',\n",
    "        'biogas, burned in micro gas turbine 100kWe',\n",
    "    ],\n",
    "    'Fossil Coal-derived gas': [\n",
    "        'treatment of coal gas, in power plant'\n",
    "    ],\n",
    "}"
   ]
  },
  {
   "cell_type": "markdown",
   "metadata": {},
   "source": [
    "Use `wurst` to extract data into an easily usable form, and move all generation to high voltage mixes."
   ]
  },
  {
   "cell_type": "code",
   "execution_count": 17,
   "metadata": {},
   "outputs": [
    {
     "name": "stdout",
     "output_type": "stream",
     "text": [
      "Getting activity data\n"
     ]
    },
    {
     "name": "stderr",
     "output_type": "stream",
     "text": [
      "100%|██████████| 16022/16022 [00:00<00:00, 53459.95it/s]\n",
      "  0%|          | 0/544735 [00:00<?, ?it/s]"
     ]
    },
    {
     "name": "stdout",
     "output_type": "stream",
     "text": [
      "Adding exchange data to activities\n"
     ]
    },
    {
     "name": "stderr",
     "output_type": "stream",
     "text": [
      "100%|██████████| 544735/544735 [00:28<00:00, 18910.54it/s]\n"
     ]
    },
    {
     "name": "stdout",
     "output_type": "stream",
     "text": [
      "Filling out exchange data\n"
     ]
    },
    {
     "name": "stderr",
     "output_type": "stream",
     "text": [
      "100%|██████████| 16022/16022 [00:02<00:00, 6590.43it/s]\n"
     ]
    }
   ],
   "source": [
    "db = wurst.extract_brightway2_databases([\"ecoinvent 3.5 cutoff\"])"
   ]
  },
  {
   "cell_type": "code",
   "execution_count": 18,
   "metadata": {},
   "outputs": [],
   "source": [
    "db = move_all_generation_to_high_voltage(db)\n",
    "db = remove_electricity_trade(db)"
   ]
  },
  {
   "cell_type": "markdown",
   "metadata": {},
   "source": [
    "There are multiple possible ecoinvent technologies for most ENTSO-E labels. We will take disaggregation factors from the ecoinvent country-specific mixes, and use German generation as a back-up."
   ]
  },
  {
   "cell_type": "code",
   "execution_count": 19,
   "metadata": {},
   "outputs": [],
   "source": [
    "mix_dictionary = {ds['location']: ds for ds in db \n",
    "                  if ds['name'] == 'market for electricity, high voltage'}"
   ]
  },
  {
   "cell_type": "code",
   "execution_count": 20,
   "metadata": {},
   "outputs": [],
   "source": [
    "def has_any(entso_label, country, db):\n",
    "    \"\"\"Check if ``country`` has any ecoinvent activities which meet \n",
    "    generation type ``entso_label`` in their electricity grid mix\"\"\"\n",
    "    mix = mix_dictionary[country]\n",
    "    possibles = generic_mapping[entso_label]\n",
    "    return any(exc['name'] in possibles for exc in mix['exchanges'])"
   ]
  },
  {
   "cell_type": "code",
   "execution_count": 21,
   "metadata": {},
   "outputs": [],
   "source": [
    "def generation_in_country_exists(possibles, country, db):\n",
    "    \"\"\"Check if any of the ``possibles`` generaters exist in the ``country``\"\"\"\n",
    "    return any(ds['name'] in possibles\n",
    "               for ds in db\n",
    "               if ds['location'] == country)"
   ]
  },
  {
   "cell_type": "code",
   "execution_count": 22,
   "metadata": {},
   "outputs": [
    {
     "name": "stdout",
     "output_type": "stream",
     "text": [
      "Hydro Water Reservoir GR False True 0.06809651584952488\n",
      "Hydro Water Reservoir PL False True 0.0009553833617670647\n",
      "Hydro Run-of-river and poundage NO False True 0.07910015318617056\n",
      "Hydro Water Reservoir RO False True 0.0716532753014878\n",
      "Biomass RS True True 0.0009410699646631053\n",
      "Hydro Water Reservoir BG False True 0.05062257710151984\n",
      "Waste BG True True 0.000245621689421549\n",
      "Solar EE False True 0.0007427210744764852\n",
      "Hydro Water Reservoir HU False True 0.0034863301620412664\n",
      "Hydro Pumped Storage CH True True 0.18196568948794153\n",
      "Wind Onshore SI True True 0.00029687910074623796\n"
     ]
    }
   ],
   "source": [
    "for country in set(COUNTRIES).difference(ENTSO_MISSING):\n",
    "    generation = c.get_generation(country, 2017)\n",
    "    for label in generation.columns:\n",
    "        if label in (\"Other\", \"Other renewable\"):\n",
    "            continue\n",
    "        if not generation[label].sum():\n",
    "            continue\n",
    "        if not has_any(label, country, db):\n",
    "            print(label, \n",
    "                  country, \n",
    "                  generation_in_country_exists(generic_mapping[label], country, db), \n",
    "                  generation_in_country_exists(generic_mapping[label], 'DE', db), \n",
    "                  generation[label].sum() / generation.sum().sum())"
   ]
  },
  {
   "cell_type": "markdown",
   "metadata": {},
   "source": [
    "# Create correspondence tables\n",
    "\n",
    "Our correspondence tables will follow the simple schema from [correspondentia](https://github.com/BONSAMURAIS/correspondentia):\n",
    "\n",
    "```python\n",
    "\n",
    "(from_label, to_label, weight)\n",
    "\n",
    "```"
   ]
  },
  {
   "cell_type": "code",
   "execution_count": 23,
   "metadata": {},
   "outputs": [],
   "source": [
    "backup = mix_dictionary['DE']"
   ]
  },
  {
   "cell_type": "code",
   "execution_count": 24,
   "metadata": {},
   "outputs": [],
   "source": [
    "def get_ct_for_country(country):\n",
    "    table = []\n",
    "\n",
    "    df = c.get_generation(country, 2017)\n",
    "    df = remove_other_renewables(remove_others(drop_zero_columns(df)))\n",
    "    mix = mix_dictionary[country]\n",
    "    \n",
    "    for col in df:\n",
    "        exchanges = [exc for exc in mix['exchanges'] if exc['name'] in generic_mapping[col]]\n",
    "        if not exchanges:\n",
    "            exchanges = [exc for exc in backup['exchanges'] if exc['name'] in generic_mapping[col]]\n",
    "            \n",
    "        subtotal = sum([exc['amount'] for exc in exchanges])\n",
    "        for exc in exchanges:\n",
    "            table.append((col, exc['name'], exc['amount'] / subtotal))\n",
    "    \n",
    "    return table"
   ]
  },
  {
   "cell_type": "markdown",
   "metadata": {},
   "source": [
    "## Write correspondence table as a [tabular data package](https://frictionlessdata.io/specs/tabular-data-package/)."
   ]
  },
  {
   "cell_type": "code",
   "execution_count": 25,
   "metadata": {},
   "outputs": [],
   "source": [
    "import csv\n",
    "HEADERS = [\"from_label\", \"to_label\", \"weight\"]\n",
    "\n",
    "\n",
    "def write_csv(filepath, data):\n",
    "    with open(filepath, 'w') as f:\n",
    "        writer = csv.writer(f)\n",
    "        writer.writerow(HEADERS)\n",
    "        for row in data:\n",
    "            writer.writerow(row)    "
   ]
  },
  {
   "cell_type": "code",
   "execution_count": 26,
   "metadata": {},
   "outputs": [],
   "source": [
    "import json\n",
    "\n",
    "\n",
    "def write_metadata(filepath, name):\n",
    "    metadata = {\n",
    "        \"profile\": \"tabular-data-package\",\n",
    "        \"name\": name,\n",
    "        \"resources\": [{\n",
    "            \"path\": filepath.name,\n",
    "            \"encoding\": \"utf-8\",\n",
    "            \"format\": \"csv\",\n",
    "            \"mediatype\": \"text/csv\",\n",
    "            \"profile\": \"tabular-data-resource\",\n",
    "            \"schema\": {\n",
    "                \"fields\": [\n",
    "                    {\n",
    "                        \"name\": \"from_label\",\n",
    "                        \"type\": \"string\"\n",
    "                    },\n",
    "                    {\n",
    "                        \"name\": \"to_label\",\n",
    "                        \"type\": \"string\"\n",
    "                    },\n",
    "                    {\n",
    "                        \"name\": \"weight\",\n",
    "                        \"type\": \"number\"\n",
    "                    }\n",
    "                ]\n",
    "            }\n",
    "        }]\n",
    "    }\n",
    "    with open(filepath.parent / \"datapackage.json\", \"w\") as f:\n",
    "        json.dump(metadata, f)"
   ]
  },
  {
   "cell_type": "code",
   "execution_count": 27,
   "metadata": {},
   "outputs": [],
   "source": [
    "from pathlib import Path\n",
    "import os\n",
    "\n",
    "def write_datapackage(data, dirname, name, base_dir=None):\n",
    "    if base_dir is None:\n",
    "        base_dir = os.getcwd()\n",
    "    dirpath = (Path(base_dir) / dirname).resolve()\n",
    "    if dirpath.is_dir():\n",
    "        raise ValueError(\"Directory already exists\")\n",
    "    \n",
    "    dirpath.mkdir()\n",
    "    filepath = dirpath / \"corr_table.csv\"\n",
    "    write_csv(filepath, data)\n",
    "    write_metadata(filepath, name)"
   ]
  },
  {
   "cell_type": "code",
   "execution_count": 29,
   "metadata": {},
   "outputs": [],
   "source": [
    "for country in set(COUNTRIES).difference(ENTSO_MISSING):\n",
    "    write_datapackage(\n",
    "        get_ct_for_country(country),\n",
    "        country,\n",
    "        \"{}-ct-entso-ecoinvent35\".format(country),\n",
    "        base_dir=\"corr_tables\"\n",
    "    )"
   ]
  }
 ],
 "metadata": {
  "kernelspec": {
   "display_name": "Python 3",
   "language": "python",
   "name": "python3"
  },
  "language_info": {
   "codemirror_mode": {
    "name": "ipython",
    "version": 3
   },
   "file_extension": ".py",
   "mimetype": "text/x-python",
   "name": "python",
   "nbconvert_exporter": "python",
   "pygments_lexer": "ipython3",
   "version": "3.7.3"
  },
  "toc": {
   "colors": {
    "hover_highlight": "#DAA520",
    "running_highlight": "#FF0000",
    "selected_highlight": "#FFD700"
   },
   "moveMenuLeft": true,
   "nav_menu": {
    "height": "30px",
    "width": "252px"
   },
   "navigate_menu": true,
   "number_sections": true,
   "sideBar": true,
   "threshold": 4,
   "toc_cell": false,
   "toc_section_display": "block",
   "toc_window_display": false
  }
 },
 "nbformat": 4,
 "nbformat_minor": 2
}
