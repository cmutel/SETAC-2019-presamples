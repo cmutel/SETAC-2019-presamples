{
 "cells": [
  {
   "cell_type": "markdown",
   "metadata": {},
   "source": [
    "# Project setup\n",
    "\n",
    "Before running any of these notebooks, please check that you have the following software installed:\n",
    "\n",
    "* [Brightway](https://docs.brightwaylca.org/installation.html)\n",
    "* seaborn\n",
    "* pandas\n",
    "* [bentso](https://github.com/BONSAMURAIS/bentso) >= 0.3\n",
    "* [correspondentia](https://github.com/BONSAMURAIS/correspondentia)\n",
    "* [wurst](https://github.com/IndEcol/wurst) >= 0.2\n",
    "* [presamples](https://github.com/PascalLesage/brightway2-presamples) >= 0.2.3\n",
    "\n",
    "You also need access to ecoinvent v3.5."
   ]
  },
  {
   "cell_type": "code",
   "execution_count": null,
   "metadata": {},
   "outputs": [],
   "source": [
    "import brightway2 as bw"
   ]
  },
  {
   "cell_type": "code",
   "execution_count": null,
   "metadata": {},
   "outputs": [],
   "source": [
    "bw.projects.set_current(\"SETAC 2019\")"
   ]
  },
  {
   "cell_type": "code",
   "execution_count": null,
   "metadata": {},
   "outputs": [],
   "source": [
    "if \"ecoinvent 3.5 cutoff\" not in bw.databases:\n",
    "    bw.bw2setup()\n",
    "    ei = bw.SingleOutputEcospold2Importer(\"/Users/cmutel/Documents/LCA/Ecoinvent/3.5/cutoff/datasets\", \"ecoinvent 3.5 cutoff\")\n",
    "    ei.apply_strategies()\n",
    "    ei.write_database()"
   ]
  }
 ],
 "metadata": {
  "kernelspec": {
   "display_name": "Python 3",
   "language": "python",
   "name": "python3"
  },
  "language_info": {
   "codemirror_mode": {
    "name": "ipython",
    "version": 3
   },
   "file_extension": ".py",
   "mimetype": "text/x-python",
   "name": "python",
   "nbconvert_exporter": "python",
   "pygments_lexer": "ipython3",
   "version": "3.7.3"
  },
  "toc": {
   "colors": {
    "hover_highlight": "#DAA520",
    "running_highlight": "#FF0000",
    "selected_highlight": "#FFD700"
   },
   "moveMenuLeft": true,
   "nav_menu": {
    "height": "30px",
    "width": "252px"
   },
   "navigate_menu": true,
   "number_sections": true,
   "sideBar": true,
   "threshold": 4,
   "toc_cell": false,
   "toc_section_display": "block",
   "toc_window_display": false
  }
 },
 "nbformat": 4,
 "nbformat_minor": 2
}
