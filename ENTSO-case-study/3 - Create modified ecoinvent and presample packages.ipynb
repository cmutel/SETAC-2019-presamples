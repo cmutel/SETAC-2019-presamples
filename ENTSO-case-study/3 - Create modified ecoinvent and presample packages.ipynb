{
 "cells": [
  {
   "cell_type": "code",
   "execution_count": 2,
   "metadata": {},
   "outputs": [],
   "source": [
    "%matplotlib inline"
   ]
  },
  {
   "cell_type": "code",
   "execution_count": 31,
   "metadata": {},
   "outputs": [],
   "source": [
    "from bentso.constants import ENTSO_COUNTRIES, TRADE_PAIRS\n",
    "from collections import defaultdict\n",
    "from correspondentia import load_csv\n",
    "from pathlib import Path\n",
    "import bentso\n",
    "import brightway2 as bw\n",
    "import numpy as np\n",
    "import os\n",
    "import pandas as pd\n",
    "import presamples\n",
    "import seaborn as sb\n",
    "\n",
    "from wurst.ecoinvent.electricity_markets import (\n",
    "    move_all_generation_to_high_voltage, \n",
    "    remove_electricity_trade,\n",
    "    empty_high_voltage_markets,\n",
    "    all_providers,\n",
    ")\n",
    "import wurst"
   ]
  },
  {
   "cell_type": "code",
   "execution_count": 4,
   "metadata": {},
   "outputs": [],
   "source": [
    "assert bentso.__version__ >= (0, 2, 2)"
   ]
  },
  {
   "cell_type": "code",
   "execution_count": 5,
   "metadata": {},
   "outputs": [],
   "source": [
    "bw.projects.set_current(\"SETAC 2019\")"
   ]
  },
  {
   "cell_type": "code",
   "execution_count": 6,
   "metadata": {},
   "outputs": [],
   "source": [
    "YEAR = 2017"
   ]
  },
  {
   "cell_type": "markdown",
   "metadata": {},
   "source": [
    "# Create presample packages\n",
    "\n",
    "They have two components - the indices, and the data itself. The indices list in the input and output activities. The data has rows of exchanges to be substituted, and columns of values to choose from.\n",
    "\n",
    "## Preparing the bentso output\n",
    "\n",
    "Need to do the following:\n",
    "\n",
    "1. Remove `Other` and `Other renewable` (functionality added to `bentso` 0.2)\n",
    "2. Split entso labels to ecoinvent labels, using the prepared correspondence tables and `correspondentia`\n",
    "3. Link abstract ecoinvent labels to specific activity keys, using backups when necessary\n",
    "4. Write the presample packages into a campaign"
   ]
  },
  {
   "cell_type": "code",
   "execution_count": 7,
   "metadata": {},
   "outputs": [],
   "source": [
    "NEW_DB_NAME = \"ecoinvent 3.5 ENTSO-E\""
   ]
  },
  {
   "cell_type": "code",
   "execution_count": 8,
   "metadata": {},
   "outputs": [],
   "source": [
    "kwh_dict = {(ds['name'], ds['location']): ds['code'] \n",
    "            for ds in bw.Database(\"ecoinvent 3.5 cutoff\")\n",
    "            if ds['unit'] == 'kilowatt hour'}"
   ]
  },
  {
   "cell_type": "code",
   "execution_count": 9,
   "metadata": {},
   "outputs": [],
   "source": [
    "base_dir = Path(os.getcwd()).resolve() / \"corr_tables\""
   ]
  },
  {
   "cell_type": "code",
   "execution_count": 10,
   "metadata": {},
   "outputs": [
    {
     "name": "stdout",
     "output_type": "stream",
     "text": [
      "Using data directory /Users/cmutel/Library/Application Support/bentso\n"
     ]
    }
   ],
   "source": [
    "c = bentso.CachingDataClient(key=\"cache-only\")"
   ]
  },
  {
   "cell_type": "code",
   "execution_count": null,
   "metadata": {},
   "outputs": [],
   "source": [
    "ecoinvent = wurst.extract_brightway2_databases([\"ecoinvent 3.5 cutoff\"])"
   ]
  },
  {
   "cell_type": "code",
   "execution_count": 10,
   "metadata": {},
   "outputs": [
    {
     "name": "stdout",
     "output_type": "stream",
     "text": [
      "16022\n",
      "16022\n",
      "16022\n",
      "16022\n"
     ]
    }
   ],
   "source": [
    "ecoinvent = move_all_generation_to_high_voltage(ecoinvent)\n",
    "ecoinvent = remove_electricity_trade(ecoinvent)\n",
    "ecoinvent = empty_high_voltage_markets(ecoinvent)"
   ]
  },
  {
   "cell_type": "code",
   "execution_count": 11,
   "metadata": {},
   "outputs": [],
   "source": [
    "def format_exchange(db_name, code, amount):\n",
    "    return {\n",
    "        'amount': amount,\n",
    "        'type': 'technosphere',\n",
    "        'input': (db_name, code),\n",
    "    }"
   ]
  },
  {
   "cell_type": "code",
   "execution_count": 11,
   "metadata": {},
   "outputs": [],
   "source": [
    "import_from = defaultdict(set)\n",
    "\n",
    "for k, v in TRADE_PAIRS.items():\n",
    "    # Switch from exporter: [importers] to importer: [exporters]\n",
    "    for country in v:\n",
    "        import_from[country].add(k)"
   ]
  },
  {
   "cell_type": "code",
   "execution_count": 13,
   "metadata": {},
   "outputs": [],
   "source": [
    "for country in ENTSO_COUNTRIES:\n",
    "    ct = load_csv(base_dir / country / \"corr_table.csv\")\n",
    "    \n",
    "    df = c.get_generation(country, YEAR, True).sum()\n",
    "    trade = [(exporter, c.get_trade(exporter, country, YEAR).sum()) \n",
    "             for exporter in import_from[country]]\n",
    "    total = df.sum() + sum(x[1] for x in trade)\n",
    "    \n",
    "    market = next(x for x in ecoinvent \n",
    "                  if x['name'] == 'market for electricity, high voltage' \n",
    "                  and x['location'] == country)\n",
    "    \n",
    "    for label, amount in zip(df.index, df):\n",
    "        for mapping in ct[label]:\n",
    "            name = mapping['value']\n",
    "            market['exchanges'].append(format_exchange(\n",
    "                NEW_DB_NAME, \n",
    "                kwh_dict.get((name, country), kwh_dict.get((name, 'DE'))),\n",
    "                amount / total * mapping['weight']))\n",
    "            \n",
    "    for key, value in trade:\n",
    "        market['exchanges'].append(format_exchange(\n",
    "            \"ecoinvent 3.5 ENTSO-E\", \n",
    "            kwh_dict[('market for electricity, high voltage', key)],\n",
    "            value / total))"
   ]
  },
  {
   "cell_type": "code",
   "execution_count": 14,
   "metadata": {},
   "outputs": [
    {
     "name": "stdout",
     "output_type": "stream",
     "text": [
      "16022 datasets\n",
      "543113 exchanges\n",
      "0 unlinked exchanges\n",
      "  \n"
     ]
    },
    {
     "name": "stderr",
     "output_type": "stream",
     "text": [
      "Writing activities to SQLite3 database:\n",
      "0% [##############################] 100% | ETA: 00:00:00\n",
      "Total time elapsed: 00:00:31\n"
     ]
    },
    {
     "name": "stdout",
     "output_type": "stream",
     "text": [
      "Title: Writing activities to SQLite3 database:\n",
      "  Started: 05/14/2019 11:49:31\n",
      "  Finished: 05/14/2019 11:50:03\n",
      "  Total time elapsed: 00:00:31\n",
      "  CPU %: 86.00\n",
      "  Memory %: 10.39\n",
      "Created database: ecoinvent 3.5 ENTSO-E\n"
     ]
    }
   ],
   "source": [
    "wurst.write_brightway2_database(ecoinvent, NEW_DB_NAME)"
   ]
  },
  {
   "cell_type": "markdown",
   "metadata": {},
   "source": [
    "## Create presample packages"
   ]
  },
  {
   "cell_type": "code",
   "execution_count": 70,
   "metadata": {},
   "outputs": [],
   "source": [
    "indices, matrix = [], []\n",
    "\n",
    "for country in ENTSO_COUNTRIES:\n",
    "    ct = load_csv(base_dir / country / \"corr_table.csv\")\n",
    "    \n",
    "    df = c.get_generation(country, YEAR, clean=True, full_year=True)\n",
    "    if df.shape[0] != 8760:\n",
    "        print(country, df.shape)\n",
    "\n",
    "    trade = [(exporter, c.get_trade(exporter, country, YEAR, full_year=True)) \n",
    "             for exporter in import_from[country]]\n",
    "    total = df.sum(axis=1) + sum(x[1] for x in trade)\n",
    "    \n",
    "    market = (NEW_DB_NAME, kwh_dict[('market for electricity, high voltage', country)])\n",
    "    \n",
    "    for label in df:\n",
    "        for mapping in ct[label]:\n",
    "            name = mapping['value']\n",
    "            code = kwh_dict.get((name, country), kwh_dict.get((name, 'DE')))\n",
    "            \n",
    "            indices.append(((NEW_DB_NAME, code), market, 'technosphere'))\n",
    "            matrix.append((df[label] / total).values * mapping['weight'])\n",
    "            \n",
    "    for key, value in trade:\n",
    "        indices.append((\n",
    "            (NEW_DB_NAME, kwh_dict[('market for electricity, high voltage', key)]), \n",
    "            market, \n",
    "            'technosphere'\n",
    "        ))\n",
    "        matrix.append((value / total).values)"
   ]
  },
  {
   "cell_type": "code",
   "execution_count": 71,
   "metadata": {},
   "outputs": [],
   "source": [
    "matrix = np.vstack([o.reshape((1, -1)) for o in matrix])"
   ]
  },
  {
   "cell_type": "code",
   "execution_count": 72,
   "metadata": {},
   "outputs": [],
   "source": [
    "mask = np.isnan(matrix)\n",
    "matrix[mask] = 0"
   ]
  },
  {
   "cell_type": "code",
   "execution_count": 73,
   "metadata": {},
   "outputs": [],
   "source": [
    "package = presamples.create_presamples_package(\n",
    "    matrix_data=[(matrix, indices, 'technosphere')], \n",
    "    name='ENTSO-E 2017'\n",
    ")"
   ]
  },
  {
   "cell_type": "code",
   "execution_count": 41,
   "metadata": {},
   "outputs": [],
   "source": [
    "campaign = presamples.Campaign.get_or_create(name=\"ENTSO-E 2017\")"
   ]
  },
  {
   "cell_type": "code",
   "execution_count": 29,
   "metadata": {},
   "outputs": [],
   "source": [
    "campaign.add_local_presamples(package[1], copy=False)"
   ]
  }
 ],
 "metadata": {
  "kernelspec": {
   "display_name": "Python 3",
   "language": "python",
   "name": "python3"
  },
  "language_info": {
   "codemirror_mode": {
    "name": "ipython",
    "version": 3
   },
   "file_extension": ".py",
   "mimetype": "text/x-python",
   "name": "python",
   "nbconvert_exporter": "python",
   "pygments_lexer": "ipython3",
   "version": "3.7.3"
  },
  "toc": {
   "colors": {
    "hover_highlight": "#DAA520",
    "running_highlight": "#FF0000",
    "selected_highlight": "#FFD700"
   },
   "moveMenuLeft": true,
   "nav_menu": {
    "height": "66px",
    "width": "252px"
   },
   "navigate_menu": true,
   "number_sections": true,
   "sideBar": true,
   "threshold": 4,
   "toc_cell": false,
   "toc_section_display": "block",
   "toc_window_display": false
  }
 },
 "nbformat": 4,
 "nbformat_minor": 2
}
